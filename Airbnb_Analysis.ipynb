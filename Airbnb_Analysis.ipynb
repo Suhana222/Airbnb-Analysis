{
 "cells": [
  {
   "cell_type": "code",
   "execution_count": 61,
   "metadata": {},
   "outputs": [],
   "source": [
    "# Importing Libraries\n",
    "\n",
    "import json\n",
    "import pandas as pd\n",
    "import warnings\n",
    "\n",
    "warnings.filterwarnings(\"ignore\")\n",
    "pd.set_option(\"display.max_columns\", None)"
   ]
  },
  {
   "cell_type": "code",
   "execution_count": 62,
   "metadata": {},
   "outputs": [],
   "source": [
    "# Path:\n",
    "file_path = r\"C:\\Users\\aashi\\Desktop\\YoutubeProject\\sample_airbnb.json\"\n",
    "\n",
    "# Read the JSON file into a DataFrame\n",
    "df_1 = pd.read_json(file_path)"
   ]
  },
  {
   "cell_type": "code",
   "execution_count": 63,
   "metadata": {},
   "outputs": [],
   "source": [
    "# Function to extract picture_url from nested images dictionary\n",
    "\n",
    "def extract_picture_url(images):\n",
    "\n",
    "    if isinstance(images, dict) and \"picture_url\" in images:\n",
    "        \n",
    "        return images[\"picture_url\"]\n",
    "    else:\n",
    "        return None\n",
    "\n",
    "# Apply the function to create a new column for picture_url\n",
    "df_1[\"images.picture_url\"] = df_1[\"images\"].apply(extract_picture_url)\n",
    "\n",
    "# Select the columns you need\n",
    "columns_to_select = [\"_id\", \"listing_url\", \"name\", \"property_type\", \"room_type\", \"bed_type\", \"minimum_nights\", \"maximum_nights\", \"cancellation_policy\", \"accommodates\", \"bedrooms\", \"beds\", \"number_of_reviews\", \"bathrooms\", \"price\", \"extra_people\", \"guests_included\", \"review_scores\", \"cleaning_fee\", \"images.picture_url\"]\n",
    "\n",
    "# Select the columns you need\n",
    "df_1 = df_1[columns_to_select]\n",
    "\n",
    "\n"
   ]
  },
  {
   "cell_type": "code",
   "execution_count": null,
   "metadata": {},
   "outputs": [],
   "source": [
    "df_1.head()"
   ]
  },
  {
   "cell_type": "code",
   "execution_count": 65,
   "metadata": {},
   "outputs": [],
   "source": [
    "df_1[\"review_scores\"]= df_1[\"review_scores\"].apply(lambda x: x.get(\"review_scores_rating\",0))\n"
   ]
  },
  {
   "cell_type": "code",
   "execution_count": null,
   "metadata": {},
   "outputs": [],
   "source": [
    "df_1.describe()"
   ]
  },
  {
   "cell_type": "code",
   "execution_count": null,
   "metadata": {},
   "outputs": [],
   "source": [
    "df_1.isnull().sum()"
   ]
  },
  {
   "cell_type": "code",
   "execution_count": 68,
   "metadata": {},
   "outputs": [],
   "source": [
    "#Handling the Null Vaulues\n",
    "\n",
    "# The Null Values Feauturs are :\n",
    "\n",
    "# beds                     \n",
    "# bedrooms                  \n",
    "# bathrooms                \n",
    "# cleaning_fee  "
   ]
  },
  {
   "cell_type": "code",
   "execution_count": 69,
   "metadata": {},
   "outputs": [],
   "source": [
    "df_1[\"beds\"].fillna(0,inplace= True)\n",
    "df_1[\"bedrooms\"].fillna(0,inplace= True)\n",
    "df_1[\"bathrooms\"].fillna(0,inplace= True)\n",
    "df_1[\"cleaning_fee\"].fillna(0,inplace= True)"
   ]
  },
  {
   "cell_type": "code",
   "execution_count": null,
   "metadata": {},
   "outputs": [],
   "source": [
    "df_1.isnull().sum()"
   ]
  },
  {
   "cell_type": "code",
   "execution_count": null,
   "metadata": {},
   "outputs": [],
   "source": [
    "#Handling the DataTypes\n",
    "\n",
    "df_1.head()"
   ]
  },
  {
   "cell_type": "code",
   "execution_count": null,
   "metadata": {},
   "outputs": [],
   "source": [
    "df_1.dtypes"
   ]
  },
  {
   "cell_type": "code",
   "execution_count": 73,
   "metadata": {},
   "outputs": [],
   "source": [
    "df_1[\"minimum_nights\"]= df_1[\"minimum_nights\"].astype(int)\n",
    "df_1[\"maximum_nights\"]= df_1[\"maximum_nights\"].astype(int)\n",
    "df_1[\"bedrooms\"]= df_1[\"bedrooms\"].astype(int)\n",
    "df_1[\"beds\"]= df_1[\"beds\"].astype(int)\n",
    "df_1[\"bathrooms\"]= df_1[\"bathrooms\"].astype(str).astype(float).astype(int)\n",
    "df_1[\"price\"]= df_1[\"price\"].astype(str).astype(float).astype(int)\n",
    "df_1[\"extra_people\"]= df_1[\"extra_people\"].astype(str).astype(float).astype(int)\n",
    "df_1[\"guests_included\"]= df_1[\"guests_included\"].astype(str).astype(float).astype(int)\n",
    "df_1[\"cleaning_fee\"]= df_1[\"cleaning_fee\"].astype(str).astype(float).astype(int)"
   ]
  },
  {
   "cell_type": "code",
   "execution_count": null,
   "metadata": {},
   "outputs": [],
   "source": [
    "df_1.dtypes"
   ]
  },
  {
   "cell_type": "code",
   "execution_count": null,
   "metadata": {},
   "outputs": [],
   "source": [
    "print(df_1.columns)\n"
   ]
  },
  {
   "cell_type": "code",
   "execution_count": null,
   "metadata": {},
   "outputs": [],
   "source": [
    "len(df_1.columns)"
   ]
  },
  {
   "cell_type": "code",
   "execution_count": 77,
   "metadata": {},
   "outputs": [],
   "source": [
    "import json\n",
    "\n",
    "# Assuming host details are stored in a JSON file locally\n",
    "local_host_file_path = r\"C:\\Users\\aashi\\Desktop\\YoutubeProject\\sample_airbnb.json\"\n",
    "\n",
    "# Load host details from the JSON file\n",
    "with open(local_host_file_path, \"r\") as file:\n",
    "\n",
    "    host_data = json.load(file)\n",
    "\n",
    "# Append host details to the host list\n",
    "host = []\n",
    "\n",
    "for data in host_data:\n",
    "    \n",
    "    host.append(data)\n",
    "\n",
    "# Now, host contains the host details from the local file\n"
   ]
  },
  {
   "cell_type": "code",
   "execution_count": 78,
   "metadata": {},
   "outputs": [],
   "source": [
    "# Host Details \n",
    "\n",
    "host_columns = {\n",
    "    '_id': [],\n",
    "    'host_id': [],\n",
    "    'host_url': [],\n",
    "    'host_name': [],\n",
    "    'host_location': [],\n",
    "    \"host_response_time\": [],\n",
    "    'host_thumbnail_url': [],\n",
    "    'host_picture_url': [],\n",
    "    'host_neighbourhood': [],\n",
    "    'host_response_rate': [],\n",
    "    'host_is_superhost': [],\n",
    "    'host_has_profile_pic': [],\n",
    "    'host_identity_verified': [],\n",
    "    'host_listings_count': [],\n",
    "    'host_total_listings_count': [],\n",
    "    'host_verifications': []\n",
    "}\n",
    "\n",
    "for host_info in host_data:\n",
    "    \n",
    "    host_columns['_id'].append(host_info[\"_id\"])\n",
    "    host_details = host_info.get(\"host\", {})\n",
    "    host_columns['host_id'].append(host_details.get(\"host_id\"))\n",
    "    host_columns['host_url'].append(host_details.get(\"host_url\"))\n",
    "    host_columns['host_name'].append(host_details.get(\"host_name\"))\n",
    "    host_columns['host_location'].append(host_details.get(\"host_location\"))\n",
    "    host_columns['host_response_time'].append(host_details.get(\"host_response_time\"))\n",
    "    host_columns['host_thumbnail_url'].append(host_details.get(\"host_thumbnail_url\"))\n",
    "    host_columns['host_picture_url'].append(host_details.get(\"host_picture_url\"))\n",
    "    host_columns['host_neighbourhood'].append(host_details.get(\"host_neighbourhood\"))\n",
    "    host_columns['host_response_rate'].append(host_details.get(\"host_response_rate\"))\n",
    "    host_columns['host_is_superhost'].append(host_details.get(\"host_is_superhost\"))\n",
    "    host_columns['host_has_profile_pic'].append(host_details.get(\"host_has_profile_pic\"))\n",
    "    host_columns['host_identity_verified'].append(host_details.get(\"host_identity_verified\"))\n",
    "    host_columns['host_listings_count'].append(host_details.get(\"host_listings_count\"))\n",
    "    host_columns['host_total_listings_count'].append(host_details.get(\"host_total_listings_count\"))\n",
    "    host_columns['host_verifications'].append(host_details.get(\"host_verifications\"))\n",
    "\n",
    "# Create DataFrame from host_columns\n",
    "df_host_1 = pd.DataFrame(host_columns)"
   ]
  },
  {
   "cell_type": "code",
   "execution_count": null,
   "metadata": {},
   "outputs": [],
   "source": [
    "df_host_1"
   ]
  },
  {
   "cell_type": "code",
   "execution_count": null,
   "metadata": {},
   "outputs": [],
   "source": [
    "df_host_1.dtypes"
   ]
  },
  {
   "cell_type": "code",
   "execution_count": 81,
   "metadata": {},
   "outputs": [],
   "source": [
    "df_host_1[\"_id\"] = df_host_1[\"_id\"].astype(int)"
   ]
  },
  {
   "cell_type": "code",
   "execution_count": null,
   "metadata": {},
   "outputs": [],
   "source": [
    "df_host_1.isnull().sum()"
   ]
  },
  {
   "cell_type": "code",
   "execution_count": 83,
   "metadata": {},
   "outputs": [],
   "source": [
    "#                                                Checking the \"host_neighbourhood\" details\n",
    "\n",
    "# host_neighbourhood having more empty values ('')\n",
    "\n",
    "# Finding the how many values are empty\n",
    "\n",
    "list_index= []\n",
    "\n",
    "for index,row in df_host_1.iterrows():\n",
    "\n",
    "    if row[\"host_neighbourhood\"] =='':\n",
    "        \n",
    "        list_index.append(index)"
   ]
  },
  {
   "cell_type": "code",
   "execution_count": null,
   "metadata": {},
   "outputs": [],
   "source": [
    "len(list_index)"
   ]
  },
  {
   "cell_type": "code",
   "execution_count": 85,
   "metadata": {},
   "outputs": [],
   "source": [
    "df_host_1[\"host_response_time\"].fillna(\"Not Specified\",inplace= True)\n",
    "df_host_1[\"host_response_rate\"].fillna(\"Not Specified\",inplace= True)\n",
    "df_host_1[\"host_neighbourhood\"]= df_host_1[\"host_neighbourhood\"].replace({'':\"Not Specified\"})"
   ]
  },
  {
   "cell_type": "code",
   "execution_count": null,
   "metadata": {},
   "outputs": [],
   "source": [
    "\n",
    "df_host_1"
   ]
  },
  {
   "cell_type": "code",
   "execution_count": 87,
   "metadata": {},
   "outputs": [],
   "source": [
    "\n",
    "\n",
    "# Assuming address details are stored in a JSON file locally\n",
    "\n",
    "local_address_file_path = r\"C:\\Users\\aashi\\Desktop\\YoutubeProject\\sample_airbnb.json\"\n",
    "\n",
    "# Load address details from the JSON file\n",
    "\n",
    "with open(local_address_file_path, \"r\") as file:\n",
    "\n",
    "    address_data = json.load(file)\n",
    "\n",
    "# Extract relevant address details\n",
    "\n",
    "address = []\n",
    "\n",
    "for data in address_data:\n",
    "\n",
    "    if \"_id\" in data and \"address\" in data:\n",
    "\n",
    "        address.append({\"_id\": data[\"_id\"], \"address\": data[\"address\"]})\n",
    "\n",
    "#Now it contains the address details from the local file\n"
   ]
  },
  {
   "cell_type": "code",
   "execution_count": null,
   "metadata": {},
   "outputs": [],
   "source": [
    "address"
   ]
  },
  {
   "cell_type": "code",
   "execution_count": 89,
   "metadata": {},
   "outputs": [],
   "source": [
    "\n",
    "df_address= pd.DataFrame(address)"
   ]
  },
  {
   "cell_type": "code",
   "execution_count": 90,
   "metadata": {},
   "outputs": [],
   "source": [
    "address_columns= {'_id':[], 'street':[], 'suburb':[], 'government_area':[], 'market':[], 'country':[],\n",
    "                   'country_code':[], 'location_type':[], \"longitude\":[], \"latitude\":[],\n",
    "                    \"is_location_exact\":[]}\n",
    "\n",
    "for i in df_address[\"_id\"]:\n",
    "    \n",
    "    address_columns[\"_id\"].append(i)\n",
    "\n",
    "for i in df_address[\"address\"]:\n",
    "\n",
    "    address_columns[\"street\"].append(i[\"street\"])\n",
    "    address_columns[\"suburb\"].append(i[\"suburb\"])\n",
    "    address_columns[\"government_area\"].append(i[\"government_area\"])\n",
    "    address_columns[\"market\"].append(i[\"market\"])\n",
    "    address_columns[\"country\"].append(i[\"country\"])\n",
    "    address_columns[\"country_code\"].append(i[\"country_code\"])\n",
    "    address_columns[\"location_type\"].append(i[\"location\"][\"type\"])\n",
    "    address_columns[\"longitude\"].append(i[\"location\"][\"coordinates\"][0])\n",
    "    address_columns[\"latitude\"].append(i[\"location\"][\"coordinates\"][1])\n",
    "    address_columns[\"is_location_exact\"].append(i[\"location\"][\"is_location_exact\"])\n",
    "df_address_1= pd.DataFrame(address_columns)"
   ]
  },
  {
   "cell_type": "code",
   "execution_count": 91,
   "metadata": {},
   "outputs": [],
   "source": [
    "df_address_1= pd.DataFrame(address_columns)"
   ]
  },
  {
   "cell_type": "code",
   "execution_count": null,
   "metadata": {},
   "outputs": [],
   "source": [
    "df_address_1"
   ]
  },
  {
   "cell_type": "code",
   "execution_count": null,
   "metadata": {},
   "outputs": [],
   "source": [
    "df_address_1.isnull().sum()"
   ]
  },
  {
   "cell_type": "code",
   "execution_count": 94,
   "metadata": {},
   "outputs": [],
   "source": [
    "# Checking the empty values ('') for all features\n",
    "\n",
    "#for i in df_address_1.columns:\n",
    "\n",
    "id_e=[]\n",
    "stre_e=[]\n",
    "suburb_e=[]\n",
    "gov_e=[]\n",
    "mark_e=[]\n",
    "cntry_e=[]\n",
    "cntry_co_e=[]\n",
    "loc_ty_e=[]\n",
    "long_e=[]\n",
    "lat_e=[]\n",
    "is_loc_tr_e=[]\n",
    "\n",
    "for index,row in df_address_1.iterrows():\n",
    "    \n",
    "    if row[\"_id\"] == '':\n",
    "        id_e.append(index)\n",
    "\n",
    "    if row[\"street\"] == '':\n",
    "        stre_e.append(index)\n",
    "        \n",
    "    if row[\"suburb\"] == '':\n",
    "        suburb_e.append(index)\n",
    "\n",
    "    if row[\"government_area\"] == '':\n",
    "        gov_e.append(index)\n",
    "\n",
    "    if row[\"market\"] == '':\n",
    "        mark_e.append(index)\n",
    "\n",
    "    if row[\"country\"] == '':\n",
    "        cntry_e.append(index)\n",
    "    \n",
    "    if row[\"country_code\"] == '':\n",
    "        cntry_co_e.append(index)\n",
    "\n",
    "    if row[\"location_type\"] == '':\n",
    "        loc_ty_e.append(index) \n",
    "\n",
    "    if row[\"longitude\"] == '':\n",
    "        long_e.append(index)\n",
    "\n",
    "    if row[\"latitude\"] == '':\n",
    "        lat_e.append(index)\n",
    "\n",
    "    if row[\"is_location_exact\"] == '':\n",
    "        is_loc_tr_e.append(index)   \n"
   ]
  },
  {
   "cell_type": "code",
   "execution_count": null,
   "metadata": {},
   "outputs": [],
   "source": [
    "empty_columns=[id_e,stre_e,suburb_e,gov_e,mark_e,cntry_e,cntry_co_e,loc_ty_e,long_e,lat_e,is_loc_tr_e]\n",
    "\n",
    "for i in empty_columns:\n",
    "    \n",
    "    print(len(i))"
   ]
  },
  {
   "cell_type": "code",
   "execution_count": 96,
   "metadata": {},
   "outputs": [],
   "source": [
    "#                                             Handling the empty values and Boolian Values\n",
    "\n",
    "# \"suburb\" and \"market\" have a empty values\n",
    "\n",
    "df_address_1[\"suburb\"]= df_address_1[\"suburb\"].replace({'':\"Not Specified\"})\n",
    "df_address_1[\"market\"]= df_address_1[\"market\"].replace({'':\"Not Specified\"})\n",
    "\n",
    "df_address_1[\"is_location_exact\"]= df_address_1[\"is_location_exact\"].map({False:\"No\", True:\"Yes\"})"
   ]
  },
  {
   "cell_type": "code",
   "execution_count": 97,
   "metadata": {},
   "outputs": [],
   "source": [
    "\n",
    "\n",
    "# Assuming availability data is stored in a JSON file locally\n",
    "local_availability_file_path = r\"C:\\Users\\aashi\\Desktop\\YoutubeProject\\sample_airbnb.json\"\n",
    "\n",
    "# Load availability data from the JSON file\n",
    "with open(local_availability_file_path, \"r\") as file:\n",
    "\n",
    "    availability_data = json.load(file)\n",
    "\n",
    "# Extract relevant availability details\n",
    "availability = []\n",
    "\n",
    "for data in availability_data:\n",
    "\n",
    "    if \"_id\" in data and \"availability\" in data:\n",
    "        \n",
    "        availability.append({\"_id\": data[\"_id\"], \"availability\": data[\"availability\"]})\n",
    "\n",
    "# Now, availabilities contains the availability details from the local file\n"
   ]
  },
  {
   "cell_type": "code",
   "execution_count": 98,
   "metadata": {},
   "outputs": [],
   "source": [
    "df_availabe= pd.DataFrame(availability)"
   ]
  },
  {
   "cell_type": "code",
   "execution_count": 99,
   "metadata": {},
   "outputs": [],
   "source": [
    "\n",
    "availabe_columns= {'_id':[], 'availability_30':[], 'availability_60':[], 'availability_90':[], 'availability_365':[]}\n",
    "\n",
    "for i in df_availabe[\"_id\"]:\n",
    "\n",
    "    availabe_columns[\"_id\"].append(i)\n",
    "\n",
    "for i in df_availabe[\"availability\"]:\n",
    "    \n",
    "    availabe_columns[\"availability_30\"].append(i[\"availability_30\"])\n",
    "    availabe_columns[\"availability_60\"].append(i[\"availability_60\"])\n",
    "    availabe_columns[\"availability_90\"].append(i[\"availability_90\"])\n",
    "    availabe_columns[\"availability_365\"].append(i[\"availability_365\"])"
   ]
  },
  {
   "cell_type": "code",
   "execution_count": 100,
   "metadata": {},
   "outputs": [],
   "source": [
    "df_availabe_1= pd.DataFrame(availabe_columns)"
   ]
  },
  {
   "cell_type": "code",
   "execution_count": null,
   "metadata": {},
   "outputs": [],
   "source": [
    "df_availabe_1.isnull().sum()"
   ]
  },
  {
   "cell_type": "code",
   "execution_count": null,
   "metadata": {},
   "outputs": [],
   "source": [
    "df_availabe_1.dtypes"
   ]
  },
  {
   "cell_type": "code",
   "execution_count": 103,
   "metadata": {},
   "outputs": [],
   "source": [
    "\n",
    "\n",
    "# Assuming amenities data is stored in a JSON file locally\n",
    "local_amenities_file_path = r\"C:\\Users\\aashi\\Desktop\\YoutubeProject\\sample_airbnb.json\"\n",
    "\n",
    "# Load amenities data from the JSON file\n",
    "with open(local_amenities_file_path, \"r\") as file:\n",
    "\n",
    "    amenities_data = json.load(file)\n",
    "\n",
    "# Extract relevant amenities details\n",
    "amenities = []\n",
    "\n",
    "for data in amenities_data:\n",
    "\n",
    "    if \"_id\" in data and \"amenities\" in data:\n",
    "        \n",
    "        amenities.append({\"_id\": data[\"_id\"], \"amenities\": data[\"amenities\"]})\n",
    "\n",
    "# Now, amenities_list contains the amenities details from the local file\n"
   ]
  },
  {
   "cell_type": "code",
   "execution_count": null,
   "metadata": {},
   "outputs": [],
   "source": [
    "amenities"
   ]
  },
  {
   "cell_type": "code",
   "execution_count": 105,
   "metadata": {},
   "outputs": [],
   "source": [
    "df_amenities= pd.DataFrame(amenities)"
   ]
  },
  {
   "cell_type": "code",
   "execution_count": 106,
   "metadata": {},
   "outputs": [],
   "source": [
    "def sort_amenities(x):\n",
    "    \n",
    "    a= x\n",
    "    a.sort()\n",
    "    return a"
   ]
  },
  {
   "cell_type": "code",
   "execution_count": 107,
   "metadata": {},
   "outputs": [],
   "source": [
    "df_amenities[\"amenities\"]= df_amenities[\"amenities\"].apply(lambda x: sort_amenities(x))"
   ]
  },
  {
   "cell_type": "code",
   "execution_count": null,
   "metadata": {},
   "outputs": [],
   "source": [
    "\n",
    "df_amenities.isnull().sum()"
   ]
  },
  {
   "cell_type": "code",
   "execution_count": null,
   "metadata": {},
   "outputs": [],
   "source": [
    "df_amenities.dtypes"
   ]
  },
  {
   "cell_type": "code",
   "execution_count": 110,
   "metadata": {},
   "outputs": [],
   "source": [
    "\n",
    "# df_1\n",
    "# df_host_1\n",
    "# df_address_1\n",
    "# df_availabe_1\n",
    "# df_amenities\n",
    "\n",
    "df_host_1[\"_id\"] = df_host_1[\"_id\"].astype(int)\n",
    "df_address_1[\"_id\"] = df_address_1[\"_id\"].astype(int)\n",
    "df_availabe_1[\"_id\"] = df_availabe_1[\"_id\"].astype(int)\n",
    "df_amenities[\"_id\"] = df_amenities[\"_id\"].astype(int)\n",
    "\n",
    "df = pd.merge(df_1, df_host_1, on=\"_id\")\n",
    "df = pd.merge(df, df_address_1, on=\"_id\")\n",
    "df = pd.merge(df, df_availabe_1, on=\"_id\")\n",
    "df = pd.merge(df, df_amenities, on=\"_id\")\n"
   ]
  },
  {
   "cell_type": "code",
   "execution_count": 111,
   "metadata": {},
   "outputs": [],
   "source": [
    "# save the file \n",
    "\n",
    "df.to_csv(\"Airbnb_Analysis.csv\", index= False)"
   ]
  },
  {
   "cell_type": "code",
   "execution_count": 112,
   "metadata": {},
   "outputs": [],
   "source": [
    "df= pd.read_csv(\"Airbnb_Analysis.csv\")"
   ]
  },
  {
   "cell_type": "code",
   "execution_count": null,
   "metadata": {},
   "outputs": [],
   "source": [
    "df"
   ]
  },
  {
   "cell_type": "code",
   "execution_count": 114,
   "metadata": {},
   "outputs": [],
   "source": [
    "import pandas as pd\n",
    "import json\n",
    "\n",
    "# Path to the JSON file\n",
    "file_path = r\"C:\\Users\\aashi\\Desktop\\YoutubeProject\\sample_airbnb.json\"\n",
    "\n",
    "# Read the JSON file\n",
    "with open(file_path, 'r') as file:\n",
    "\n",
    "    data = json.load(file)\n",
    "\n",
    "# Extract \"id\" and \"date\" from the \"reviews\" section\n",
    "reviews_data = []\n",
    "\n",
    "for item in data:\n",
    "\n",
    "    for review in item.get(\"reviews\", []):\n",
    "        \n",
    "        reviews_data.append({\"_id\": review.get(\"_id\"), \"date\": review.get(\"date\")})\n",
    "\n",
    "# Convert to DataFrame\n",
    "reviews_df = pd.DataFrame(reviews_data)\n",
    "\n"
   ]
  },
  {
   "cell_type": "code",
   "execution_count": null,
   "metadata": {},
   "outputs": [],
   "source": [
    "reviews_df"
   ]
  },
  {
   "cell_type": "code",
   "execution_count": 116,
   "metadata": {},
   "outputs": [],
   "source": [
    "# Convert DataFrame to CSV\n",
    "data = reviews_df.to_csv(\"Reviews_Data.csv\", index=False)\n"
   ]
  }
 ],
 "metadata": {
  "kernelspec": {
   "display_name": "Python 3",
   "language": "python",
   "name": "python3"
  },
  "language_info": {
   "codemirror_mode": {
    "name": "ipython",
    "version": 3
   },
   "file_extension": ".py",
   "mimetype": "text/x-python",
   "name": "python",
   "nbconvert_exporter": "python",
   "pygments_lexer": "ipython3",
   "version": "3.11.9"
  }
 },
 "nbformat": 4,
 "nbformat_minor": 2
}
